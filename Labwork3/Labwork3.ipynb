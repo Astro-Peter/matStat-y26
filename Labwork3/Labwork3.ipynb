{
 "cells": [
  {
   "cell_type": "code",
   "execution_count": 2,
   "metadata": {
    "ExecuteTime": {
     "end_time": "2024-05-03T20:23:32.647126700Z",
     "start_time": "2024-05-03T20:23:30.006964200Z"
    }
   },
   "outputs": [],
   "source": [
    "import numpy as np\n",
    "import pandas as pd\n",
    "from scipy.stats import norm"
   ]
  },
  {
   "cell_type": "markdown",
   "metadata": {
    "collapsed": false,
    "jupyter": {
     "outputs_hidden": false
    }
   },
   "source": [
    "# Задание 4.14"
   ]
  },
  {
   "cell_type": "markdown",
   "metadata": {
    "collapsed": false,
    "jupyter": {
     "outputs_hidden": false
    }
   },
   "source": [
    "Нулевая гипотеза $H_0 : \\sigma = \\sigma_0$\n",
    "$H_1 : \\sigma > \\sigma_0$"
   ]
  },
  {
   "cell_type": "code",
   "execution_count": 6,
   "metadata": {
    "ExecuteTime": {
     "end_time": "2024-05-03T18:55:14.047467200Z",
     "start_time": "2024-05-03T18:55:14.039422900Z"
    },
    "collapsed": false,
    "jupyter": {
     "outputs_hidden": false
    }
   },
   "outputs": [
    {
     "name": "stdout",
     "output_type": "stream",
     "text": [
      "26\n"
     ]
    }
   ],
   "source": [
    "data = np.array([39.4, 39.6, 39.6, 39.2, 39.4, 39.3, 39.1, 39.6, 39.5, 39.6, 39.4,\\\n",
    "                 39.6, 39.4, 39.4, 39.5, 39.5, 39.4, 39.6, 39.5, 39.4, 39.1, 39.1, 39.7, 39.3, 39.1, 39])\n",
    "sigma_0 = 0.15\n",
    "mu = 39.4\n",
    "print(data.size)"
   ]
  },
  {
   "cell_type": "markdown",
   "metadata": {
    "collapsed": false,
    "jupyter": {
     "outputs_hidden": false
    }
   },
   "source": [
    "Вычислим $(n-1)s^2$"
   ]
  },
  {
   "cell_type": "code",
   "execution_count": 4,
   "metadata": {
    "ExecuteTime": {
     "end_time": "2024-05-03T18:48:09.373749100Z",
     "start_time": "2024-05-03T18:48:09.362528200Z"
    },
    "collapsed": false,
    "jupyter": {
     "outputs_hidden": false
    }
   },
   "outputs": [
    {
     "data": {
      "text/plain": [
       "0.9496153846153864"
      ]
     },
     "execution_count": 4,
     "metadata": {},
     "output_type": "execute_result"
    }
   ],
   "source": [
    "first = (data - mu).sum()\n",
    "s_squared = ((data - mu) ** 2).sum() - first ** 2 / data.size\n",
    "s_squared"
   ]
  },
  {
   "cell_type": "markdown",
   "metadata": {
    "collapsed": false,
    "jupyter": {
     "outputs_hidden": false
    }
   },
   "source": [
    "Квантиль распределения $\\chi^2$ с n - 1 = 25 степенями свободы $\\chi_{0.95}^2(25)=37.65$"
   ]
  },
  {
   "cell_type": "code",
   "execution_count": 8,
   "metadata": {
    "ExecuteTime": {
     "end_time": "2024-05-03T18:55:57.450993500Z",
     "start_time": "2024-05-03T18:55:57.443981900Z"
    },
    "collapsed": false,
    "jupyter": {
     "outputs_hidden": false
    }
   },
   "outputs": [
    {
     "data": {
      "text/plain": [
       "42.20512820512829"
      ]
     },
     "execution_count": 8,
     "metadata": {},
     "output_type": "execute_result"
    }
   ],
   "source": [
    "Z = s_squared / sigma_0 ** 2\n",
    "Z"
   ]
  },
  {
   "cell_type": "markdown",
   "metadata": {
    "collapsed": false,
    "jupyter": {
     "outputs_hidden": false
    }
   },
   "source": [
    "Так как 42.205 > 37.65 то основная гипотеза $ H_0 $ отклоняется и принимается гипотеза $ H_1$"
   ]
  },
  {
   "cell_type": "markdown",
   "metadata": {
    "collapsed": false,
    "jupyter": {
     "outputs_hidden": false
    }
   },
   "source": [
    "# Задание 5.14\n",
    "Проверить гипотезу о нормальном распределении\n",
    "$\\alpha = 0.01$"
   ]
  },
  {
   "cell_type": "code",
   "execution_count": 3,
   "metadata": {
    "ExecuteTime": {
     "end_time": "2024-05-03T20:44:50.599912700Z",
     "start_time": "2024-05-03T20:44:50.595911500Z"
    },
    "collapsed": false,
    "jupyter": {
     "outputs_hidden": false
    }
   },
   "outputs": [],
   "source": [
    "data = pd.DataFrame({\"from\": [42.8, 43, 43.2, 43.4, 43.6, 43.8, 44, 44.2, 44.4, 44.6],\\\n",
    "                     \"to\": [43, 43.2, 43.4, 43.6, 43.8, 44, 44.2, 44.4, 44.6, 44.8],\\\n",
    "                     \"n\": [5, 16, 84, 113, 119, 78, 50, 19, 11, 5]})\n",
    "C = (42.8 + 44.8) / 2\n",
    "data['avg'] = (data['from'] + data['to']) / 2"
   ]
  },
  {
   "cell_type": "code",
   "execution_count": 4,
   "metadata": {
    "ExecuteTime": {
     "end_time": "2024-05-03T20:53:59.920595100Z",
     "start_time": "2024-05-03T20:53:59.912535500Z"
    },
    "collapsed": false,
    "jupyter": {
     "outputs_hidden": false
    }
   },
   "outputs": [
    {
     "name": "stdout",
     "output_type": "stream",
     "text": [
      "U = 31.526799013487146\n"
     ]
    }
   ],
   "source": [
    "mu = ((data['avg'] - C) * data['n']).sum() / data['n'].sum() + C\n",
    "sigma_squared = np.sqrt(((data['avg'] - C) ** 2 * data['n']).sum() / data['n'].sum() - (mu - C) ** 2)\n",
    "vals = []\n",
    "for index, row in data.iterrows():\n",
    "    vals.append(norm.cdf((row['to'] - mu)/sigma_squared) - norm.cdf((row['from'] - mu)/sigma_squared))\n",
    "data['p_i'] = vals\n",
    "data['u_i'] = (data['n'] - data['p_i'] * data['n'].sum()) ** 2 / (data['p_i'] * data['n'].sum())\n",
    "print(\"U =\",data['u_i'].sum())"
   ]
  },
  {
   "cell_type": "markdown",
   "metadata": {
    "collapsed": false,
    "jupyter": {
     "outputs_hidden": false
    }
   },
   "source": [
    "Квантиль распределения $\\chi^2$ с r = k - l - 1 = 10 - 2 - 1 = 7 степенями свободы $\\chi_{0.99}^2(25)=18,47531$, U > $\\chi^2$, то есть гипотеза о нормальном распределении отклоняется"
   ]
  }
 ],
 "metadata": {
  "kernelspec": {
   "display_name": "Python 3 (ipykernel)",
   "language": "python",
   "name": "python3"
  },
  "language_info": {
   "codemirror_mode": {
    "name": "ipython",
    "version": 3
   },
   "file_extension": ".py",
   "mimetype": "text/x-python",
   "name": "python",
   "nbconvert_exporter": "python",
   "pygments_lexer": "ipython3",
   "version": "3.11.4"
  }
 },
 "nbformat": 4,
 "nbformat_minor": 4
}
