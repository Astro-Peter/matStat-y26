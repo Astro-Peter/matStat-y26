{
 "cells": [
  {
   "cell_type": "code",
   "execution_count": 1,
   "metadata": {
    "collapsed": true,
    "jupyter": {
     "outputs_hidden": true
    },
    "ExecuteTime": {
     "end_time": "2024-04-03T18:00:53.354697600Z",
     "start_time": "2024-04-03T18:00:51.921143400Z"
    }
   },
   "outputs": [
    {
     "ename": "ModuleNotFoundError",
     "evalue": "No module named 'sklearn'",
     "output_type": "error",
     "traceback": [
      "\u001B[1;31m---------------------------------------------------------------------------\u001B[0m",
      "\u001B[1;31mModuleNotFoundError\u001B[0m                       Traceback (most recent call last)",
      "Cell \u001B[1;32mIn[1], line 2\u001B[0m\n\u001B[0;32m      1\u001B[0m \u001B[38;5;28;01mimport\u001B[39;00m \u001B[38;5;21;01mnumpy\u001B[39;00m \u001B[38;5;28;01mas\u001B[39;00m \u001B[38;5;21;01mnp\u001B[39;00m\n\u001B[1;32m----> 2\u001B[0m \u001B[38;5;28;01mfrom\u001B[39;00m \u001B[38;5;21;01msklearn\u001B[39;00m\u001B[38;5;21;01m.\u001B[39;00m\u001B[38;5;21;01mmodel_selection\u001B[39;00m \u001B[38;5;28;01mimport\u001B[39;00m train_test_split\n",
      "\u001B[1;31mModuleNotFoundError\u001B[0m: No module named 'sklearn'"
     ]
    }
   ],
   "source": [
    "import numpy as np"
   ]
  },
  {
   "cell_type": "markdown",
   "metadata": {
    "collapsed": false,
    "jupyter": {
     "outputs_hidden": false
    }
   },
   "source": [
    "Среднее время сборки изделия было 90 мин. Инженер изобрел новый метод сборки этого\n",
    "изделия. В результате времена сборки 10 изделий новым способом составили: 79, 74, 112,\n",
    "95, 83, 96, 77, 84, 70, 90 мин. Можно ли утверждать, что среднее время сборки сократилось\n",
    "(на уровне значимости 5%)?"
   ]
  },
  {
   "cell_type": "code",
   "execution_count": 29,
   "metadata": {
    "ExecuteTime": {
     "end_time": "2024-04-02T21:00:10.116044200Z",
     "start_time": "2024-04-02T21:00:10.104561800Z"
    },
    "collapsed": false,
    "jupyter": {
     "outputs_hidden": false
    }
   },
   "outputs": [],
   "source": [
    "data = np.array([79, 74, 112, 95, 83, 96, 77, 84, 70, 90])\n",
    "m = 90"
   ]
  },
  {
   "cell_type": "markdown",
   "metadata": {
    "collapsed": false,
    "jupyter": {
     "outputs_hidden": false
    }
   },
   "source": [
    "$C = \\tau_{1-\\varepsilon/2} = 2.262$ при $\\varepsilon = 0.05$ и n - 1 = 9\n",
    "\n",
    "$H_1$ - среднее время сборки не сократилось, $H_2$ - обратная гипотеза\n",
    "\n",
    "Функция отклонения\n",
    "$$ \\rho(\\vec{X}) = \\sqrt{n} \\frac{\\overline{X} - a_0}{S_0}, S_0^2 = \\frac{1}{n - 1} \\sum_{i=1}^n{(X_i - \\overline{X})^2}$$\n",
    "$$ \\delta(\\vec{X}) = \\begin{cases}\n",
    "H_1, если |\\rho(\\vec{X})| < 2.262 \\\\\n",
    "H_2, если |\\rho(\\vec{X})| \\geq 2.262\n",
    "\\end{cases} $$"
   ]
  },
  {
   "cell_type": "code",
   "execution_count": 32,
   "metadata": {
    "ExecuteTime": {
     "end_time": "2024-04-02T22:33:40.753557Z",
     "start_time": "2024-04-02T22:33:40.750556700Z"
    },
    "collapsed": false,
    "jupyter": {
     "outputs_hidden": false
    }
   },
   "outputs": [
    {
     "name": "stdout",
     "output_type": "stream",
     "text": [
      "0.9566892062149212\n"
     ]
    }
   ],
   "source": [
    "s = np.sqrt((1 / 9) * ((data - data.mean()) ** 2).sum())\n",
    "print(abs(np.sqrt(9) * (data.mean() - m) / s))"
   ]
  },
  {
   "cell_type": "markdown",
   "metadata": {
    "collapsed": false,
    "jupyter": {
     "outputs_hidden": false
    }
   },
   "source": [
    "0.9566892062149212 меньше выбранного квантиля, значит можно утверждать что среднее время сборки не сократилось"
   ]
  }
 ],
 "metadata": {
  "kernelspec": {
   "display_name": "Python 3 (ipykernel)",
   "language": "python",
   "name": "python3"
  },
  "language_info": {
   "codemirror_mode": {
    "name": "ipython",
    "version": 3
   },
   "file_extension": ".py",
   "mimetype": "text/x-python",
   "name": "python",
   "nbconvert_exporter": "python",
   "pygments_lexer": "ipython3",
   "version": "3.11.4"
  }
 },
 "nbformat": 4,
 "nbformat_minor": 4
}
