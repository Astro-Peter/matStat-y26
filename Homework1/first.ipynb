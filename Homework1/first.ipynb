{
 "cells": [
  {
   "cell_type": "markdown",
   "metadata": {
    "collapsed": false,
    "jupyter": {
     "outputs_hidden": false
    }
   },
   "source": [
    "# Задание 4\n",
    "\n",
    "В файле data.csv содержится табличка"
   ]
  },
  {
   "cell_type": "code",
   "execution_count": 1,
   "metadata": {
    "collapsed": false,
    "jupyter": {
     "outputs_hidden": false
    },
    "ExecuteTime": {
     "end_time": "2024-02-20T10:40:23.485670500Z",
     "start_time": "2024-02-20T10:40:22.457672700Z"
    }
   },
   "outputs": [],
   "source": [
    "import pandas as pd\n",
    "import matplotlib.pyplot as plt\n",
    "import numpy as np\n",
    "\n",
    "data = pd.read_csv(\"data.csv\")"
   ]
  },
  {
   "cell_type": "markdown",
   "metadata": {
    "collapsed": false,
    "jupyter": {
     "outputs_hidden": false
    }
   },
   "source": [
    "Функция, которая считает интеграл переданной функции в заданном промежутке"
   ]
  },
  {
   "cell_type": "code",
   "execution_count": 2,
   "metadata": {
    "collapsed": false,
    "jupyter": {
     "outputs_hidden": false
    },
    "ExecuteTime": {
     "end_time": "2024-02-20T10:40:23.490196200Z",
     "start_time": "2024-02-20T10:40:23.488195900Z"
    }
   },
   "outputs": [],
   "source": [
    "def thousand_part_integral(left, right, func):\n",
    "    steps = np.linspace(left, right, 1000)\n",
    "    single_step = (right - left) / 1000\n",
    "    vfunc = np.vectorize(func)\n",
    "    arr = vfunc(steps)\n",
    "    return arr.sum() * single_step"
   ]
  },
  {
   "cell_type": "markdown",
   "metadata": {
    "collapsed": false,
    "jupyter": {
     "outputs_hidden": false
    }
   },
   "source": [
    "Просчет среднего значения отклонения для каждой строчки и общего количества валиков"
   ]
  },
  {
   "cell_type": "code",
   "execution_count": 3,
   "metadata": {
    "collapsed": false,
    "jupyter": {
     "outputs_hidden": false
    },
    "ExecuteTime": {
     "end_time": "2024-02-20T10:40:23.503817200Z",
     "start_time": "2024-02-20T10:40:23.492198600Z"
    }
   },
   "outputs": [
    {
     "name": "stdout",
     "output_type": "stream",
     "text": [
      "    min  max  num   avg\n",
      "0   -30  -25    3 -27.5\n",
      "1   -25  -20    8 -22.5\n",
      "2   -20  -15   15 -17.5\n",
      "3   -15  -10   35 -12.5\n",
      "4   -10   -5   40  -7.5\n",
      "5    -5    0   60  -2.5\n",
      "6     0    5   55   2.5\n",
      "7     5   10   30   7.5\n",
      "8    10   15   25  12.5\n",
      "9    15   20   14  17.5\n",
      "10   20   25    8  22.5\n",
      "11   25   30    7  27.5\n"
     ]
    }
   ],
   "source": [
    "data_total = data['num'].sum()\n",
    "data['avg'] = (data['min'] + data['max']) / 2\n",
    "print(data)"
   ]
  },
  {
   "cell_type": "markdown",
   "metadata": {
    "collapsed": false,
    "jupyter": {
     "outputs_hidden": false
    }
   },
   "source": [
    "Просчет вероятности того, что отклонение детали попадет в заданный промежуток для каждого ряда"
   ]
  },
  {
   "cell_type": "code",
   "execution_count": 4,
   "metadata": {
    "collapsed": false,
    "jupyter": {
     "outputs_hidden": false
    },
    "ExecuteTime": {
     "end_time": "2024-02-20T10:40:23.512953600Z",
     "start_time": "2024-02-20T10:40:23.504819600Z"
    }
   },
   "outputs": [
    {
     "name": "stdout",
     "output_type": "stream",
     "text": [
      "    min  max  num   avg         p\n",
      "0   -30  -25    3 -27.5  0.010000\n",
      "1   -25  -20    8 -22.5  0.026667\n",
      "2   -20  -15   15 -17.5  0.050000\n",
      "3   -15  -10   35 -12.5  0.116667\n",
      "4   -10   -5   40  -7.5  0.133333\n",
      "5    -5    0   60  -2.5  0.200000\n",
      "6     0    5   55   2.5  0.183333\n",
      "7     5   10   30   7.5  0.100000\n",
      "8    10   15   25  12.5  0.083333\n",
      "9    15   20   14  17.5  0.046667\n",
      "10   20   25    8  22.5  0.026667\n",
      "11   25   30    7  27.5  0.023333\n"
     ]
    }
   ],
   "source": [
    "data['p'] = data['num'] / data_total\n",
    "print(data)"
   ]
  },
  {
   "cell_type": "markdown",
   "metadata": {
    "collapsed": false,
    "jupyter": {
     "outputs_hidden": false
    }
   },
   "source": [
    "Гистограмма"
   ]
  },
  {
   "cell_type": "code",
   "execution_count": 5,
   "metadata": {
    "collapsed": false,
    "jupyter": {
     "outputs_hidden": false
    },
    "ExecuteTime": {
     "end_time": "2024-02-20T10:40:23.643405200Z",
     "start_time": "2024-02-20T10:40:23.513953300Z"
    }
   },
   "outputs": [
    {
     "data": {
      "text/plain": "<Figure size 640x480 with 1 Axes>",
      "image/png": "[encoded data removed]"
     },
     "metadata": {},
     "output_type": "display_data"
    }
   ],
   "source": [
    "plt.bar(data['avg'], data['num'])\n",
    "plt.xlabel(\"Отклонение\")\n",
    "plt.ylabel(\"Всего\")\n",
    "plt.show()"
   ]
  },
  {
   "cell_type": "markdown",
   "metadata": {
    "collapsed": false,
    "jupyter": {
     "outputs_hidden": false
    }
   },
   "source": [
    "Мат ожидание"
   ]
  },
  {
   "cell_type": "code",
   "execution_count": 6,
   "metadata": {
    "collapsed": false,
    "jupyter": {
     "outputs_hidden": false
    },
    "ExecuteTime": {
     "end_time": "2024-02-20T10:40:23.644064200Z",
     "start_time": "2024-02-20T10:40:23.636689900Z"
    }
   },
   "outputs": [
    {
     "name": "stdout",
     "output_type": "stream",
     "text": [
      "-0.4\n"
     ]
    }
   ],
   "source": [
    "expected = (data['avg'] * data['p']).sum()\n",
    "print(expected)"
   ]
  },
  {
   "cell_type": "markdown",
   "metadata": {
    "collapsed": false,
    "jupyter": {
     "outputs_hidden": false
    }
   },
   "source": [
    "Дисперсия"
   ]
  },
  {
   "cell_type": "code",
   "execution_count": 7,
   "metadata": {
    "collapsed": false,
    "jupyter": {
     "outputs_hidden": false
    },
    "ExecuteTime": {
     "end_time": "2024-02-20T10:40:23.647582800Z",
     "start_time": "2024-02-20T10:40:23.643405200Z"
    }
   },
   "outputs": [
    {
     "name": "stdout",
     "output_type": "stream",
     "text": [
      "11.332401922511103\n"
     ]
    }
   ],
   "source": [
    "sigma = (data['p'] * (data['avg'] - expected) ** 2).sum() ** 0.5\n",
    "print(sigma)"
   ]
  },
  {
   "cell_type": "markdown",
   "metadata": {
    "collapsed": false,
    "jupyter": {
     "outputs_hidden": false
    }
   },
   "source": [
    "Доля изделий, для которых отклонение не превосходит 15 нм по абсолютной величине по таблице"
   ]
  },
  {
   "cell_type": "code",
   "execution_count": 8,
   "metadata": {
    "collapsed": false,
    "jupyter": {
     "outputs_hidden": false
    },
    "ExecuteTime": {
     "end_time": "2024-02-20T10:40:23.654108900Z",
     "start_time": "2024-02-20T10:40:23.648582500Z"
    }
   },
   "outputs": [
    {
     "name": "stdout",
     "output_type": "stream",
     "text": [
      "0.8166666666666667\n"
     ]
    }
   ],
   "source": [
    "under = data[abs(data[\"avg\"]) < 15]\n",
    "print(under[\"num\"].sum()/data_total)"
   ]
  },
  {
   "cell_type": "markdown",
   "metadata": {
    "collapsed": false,
    "jupyter": {
     "outputs_hidden": false
    }
   },
   "source": [
    "Получение функции распределения"
   ]
  },
  {
   "cell_type": "code",
   "execution_count": 9,
   "metadata": {
    "collapsed": false,
    "jupyter": {
     "outputs_hidden": false
    },
    "ExecuteTime": {
     "end_time": "2024-02-20T10:40:23.658134400Z",
     "start_time": "2024-02-20T10:40:23.655106600Z"
    }
   },
   "outputs": [],
   "source": [
    "distribution = lambda x : np.e ** (-0.5 * ((x - expected) / sigma) ** 2) / \\\n",
    "                          (sigma * np.sqrt(2 * np.pi))"
   ]
  },
  {
   "cell_type": "markdown",
   "metadata": {
    "collapsed": false,
    "jupyter": {
     "outputs_hidden": false
    }
   },
   "source": [
    "Получение вероятности того, что отклонение находится в промежутке [-15, 15]"
   ]
  },
  {
   "cell_type": "code",
   "execution_count": 10,
   "metadata": {
    "collapsed": false,
    "jupyter": {
     "outputs_hidden": false
    },
    "ExecuteTime": {
     "end_time": "2024-02-20T10:40:23.667155500Z",
     "start_time": "2024-02-20T10:40:23.660137300Z"
    }
   },
   "outputs": [
    {
     "name": "stdout",
     "output_type": "stream",
     "text": [
      "0.8137284814382605\n"
     ]
    }
   ],
   "source": [
    "print(thousand_part_integral(-15, 15, distribution))"
   ]
  }
 ],
 "metadata": {
  "kernelspec": {
   "display_name": "Python 3 (ipykernel)",
   "language": "python",
   "name": "python3"
  },
  "language_info": {
   "codemirror_mode": {
    "name": "ipython",
    "version": 3
   },
   "file_extension": ".py",
   "mimetype": "text/x-python",
   "name": "python",
   "nbconvert_exporter": "python",
   "pygments_lexer": "ipython3",
   "version": "3.11.4"
  }
 },
 "nbformat": 4,
 "nbformat_minor": 4
}
