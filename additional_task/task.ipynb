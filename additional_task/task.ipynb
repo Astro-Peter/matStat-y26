{
 "cells": [
  {
   "attachments": {
    "9fe4c983-1409-4a22-bdac-fe500ed219fd.png": {
     "image/png": "[encoded data removed]"
    }
   },
   "cell_type": "markdown",
   "metadata": {
    "collapsed": false,
    "jupyter": {
     "outputs_hidden": false
    }
   },
   "source": [
    "# Регрессия. Вариант 1. Стефанюк Иван, M3205\n",
    "![image.png](attachment:9fe4c983-1409-4a22-bdac-fe500ed219fd.png)"
   ]
  },
  {
   "cell_type": "code",
   "execution_count": 1,
   "metadata": {
    "ExecuteTime": {
     "end_time": "2024-06-05T17:17:23.653301300Z",
     "start_time": "2024-06-05T17:17:23.208848700Z"
    }
   },
   "outputs": [],
   "source": [
    "import numpy as np\n",
    "from numpy.linalg import inv"
   ]
  },
  {
   "cell_type": "markdown",
   "metadata": {
    "collapsed": false,
    "jupyter": {
     "outputs_hidden": false
    }
   },
   "source": [
    "### Уравнение линейной регрессии\n",
    "Решение линейной регрессии:\n",
    "$$ \\beta = (X^T * X)^{-1} * X^T * y$$\n",
    "К матрице признаков добавим вектор единиц, чтобы получить свободный коэффициент"
   ]
  },
  {
   "cell_type": "code",
   "execution_count": 2,
   "metadata": {
    "ExecuteTime": {
     "end_time": "2024-06-05T17:17:23.888893400Z",
     "start_time": "2024-06-05T17:17:23.685937800Z"
    },
    "collapsed": false,
    "jupyter": {
     "outputs_hidden": false
    }
   },
   "outputs": [
    {
     "name": "stdout",
     "output_type": "stream",
     "text": [
      "Уравние регрессии: x_1 * 3.7314533446971336 + x_2 * 1.5760576302150833 + 0.7202209115210348\n"
     ]
    }
   ],
   "source": [
    "X = np.array([\n",
    "    [0.94, 0.5, 1],\n",
    "    [0.94, 1.7, 1],\n",
    "    [0.94, 0.094, 1],\n",
    "    [1.9, 0.47, 1],\n",
    "    [1.9, 1.6, 1],\n",
    "    [1.9, 0.89, 1],\n",
    "    [1.8, 0.72, 1],\n",
    "    [1.8, 1.1, 1],\n",
    "    [1.8, 0.86, 1]\n",
    "])\n",
    "y = np.array([4.87872,\n",
    "              7.00151,\n",
    "              4.32956,\n",
    "              8.46136,\n",
    "              10.1612,\n",
    "              8.70671,\n",
    "              9.06106,\n",
    "              9.21552,\n",
    "              9.11262])\n",
    "beta = inv(X.T @ X) @ X.T @ y\n",
    "print(f\"Уравние регрессии: x_1 * {beta[0]} + x_2 * {beta[1]} + {beta[2]}\")"
   ]
  },
  {
   "cell_type": "markdown",
   "metadata": {
    "collapsed": false,
    "jupyter": {
     "outputs_hidden": false
    }
   },
   "source": [
    "### Сумма квадратов остатков\n",
    "$$RSS = \\sum_{i=1}^{n}{(y_i - f(x_i))^2}$$"
   ]
  },
  {
   "cell_type": "code",
   "execution_count": 3,
   "metadata": {
    "ExecuteTime": {
     "end_time": "2024-06-05T17:17:23.894424200Z",
     "start_time": "2024-06-05T17:17:23.882066900Z"
    },
    "collapsed": false,
    "jupyter": {
     "outputs_hidden": false
    }
   },
   "outputs": [
    {
     "name": "stdout",
     "output_type": "stream",
     "text": [
      "Сумма квадратов остатков: 0.6671482667957439\n"
     ]
    }
   ],
   "source": [
    "rss = ((y - X @ beta) ** 2).sum()\n",
    "print(f\"Сумма квадратов остатков: {rss}\")"
   ]
  },
  {
   "cell_type": "markdown",
   "metadata": {
    "collapsed": false,
    "jupyter": {
     "outputs_hidden": false
    }
   },
   "source": [
    "### Коэффициент детерминации\n",
    "$$R^2 = 1 - \\frac{RSS}{TSS}$$\n",
    "$$TSS = \\sum_{i=1}^{n}{(y_i - \\overline{y})^2}$$"
   ]
  },
  {
   "cell_type": "code",
   "execution_count": 4,
   "metadata": {
    "ExecuteTime": {
     "end_time": "2024-06-05T17:17:23.944910700Z",
     "start_time": "2024-06-05T17:17:23.895618900Z"
    },
    "collapsed": false,
    "jupyter": {
     "outputs_hidden": false
    }
   },
   "outputs": [
    {
     "name": "stdout",
     "output_type": "stream",
     "text": [
      "Коэффициент детерминации R^2=0.9799704579555842\n"
     ]
    }
   ],
   "source": [
    "tss = ((y - y.mean()) ** 2).sum()\n",
    "R_2 = 1 - rss / tss\n",
    "print(f\"Коэффициент детерминации R^2={R_2}\")"
   ]
  },
  {
   "cell_type": "markdown",
   "metadata": {
    "collapsed": false,
    "jupyter": {
     "outputs_hidden": false
    }
   },
   "source": [
    "### Матрица ковариации"
   ]
  },
  {
   "cell_type": "code",
   "execution_count": 5,
   "metadata": {
    "ExecuteTime": {
     "end_time": "2024-06-05T17:17:23.945913400Z",
     "start_time": "2024-06-05T17:17:23.896120700Z"
    },
    "collapsed": false,
    "jupyter": {
     "outputs_hidden": false
    }
   },
   "outputs": [],
   "source": [
    "def cov(x_1, x_2):\n",
    "    return ((x_1 - x_1.mean()) * (x_2 - x_2.mean())).mean()"
   ]
  },
  {
   "cell_type": "code",
   "execution_count": 6,
   "metadata": {
    "ExecuteTime": {
     "end_time": "2024-06-05T17:17:23.947741500Z",
     "start_time": "2024-06-05T17:17:23.899832700Z"
    },
    "collapsed": false,
    "jupyter": {
     "outputs_hidden": false
    }
   },
   "outputs": [
    {
     "name": "stdout",
     "output_type": "stream",
     "text": [
      "Матрица ковариации векторов признаков:\n",
      " x_1, \t\tx_2\n",
      " [[0.18568889 0.03701185]\n",
      " [0.03701185 0.24395269]]\n"
     ]
    }
   ],
   "source": [
    "cov_matrix = np.array([\n",
    "    [cov(X[:, 0], X[:, 0]), cov(X[:, 0], X[:, 1])],\n",
    "    [cov(X[:, 1], X[:, 0]), cov(X[:, 1], X[:, 1])]\n",
    "])\n",
    "print(f\"Матрица ковариации векторов признаков:\\n\"\n",
    "      f\" x_1, \\t\\tx_2\\n {cov_matrix}\")"
   ]
  }
 ],
 "metadata": {
  "kernelspec": {
   "display_name": "Python 3 (ipykernel)",
   "language": "python",
   "name": "python3"
  },
  "language_info": {
   "codemirror_mode": {
    "name": "ipython",
    "version": 3
   },
   "file_extension": ".py",
   "mimetype": "text/x-python",
   "name": "python",
   "nbconvert_exporter": "python",
   "pygments_lexer": "ipython3",
   "version": "3.11.4"
  }
 },
 "nbformat": 4,
 "nbformat_minor": 4
}
