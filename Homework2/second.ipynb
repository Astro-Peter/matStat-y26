{
 "cells": [
  {
   "cell_type": "markdown",
   "metadata": {
    "collapsed": false,
    "jupyter": {
     "outputs_hidden": false
    }
   },
   "source": [
    "## Стефанюк Иван, М3205\n",
    "### Задание №17\n",
    "$$\\Large p(x) = \\frac{1}{\\mu} e^\\frac{-x}{\\mu}$$\n",
    "$$\\Large L(x, \\mu) = \\prod_{i=1}^{n} \\frac{1}{\\mu} e^\\frac{-x_i}{\\mu}$$\n",
    "$$\\Large L(x, \\mu) = \\frac{1}{\\mu^n} e^\\frac{-\\overline{x}n}{\\mu}$$\n",
    "$$\\Large l(x, \\mu) = n \\ln(\\frac{1}{\\mu}) - \\frac{\\overline{x}n}{\\mu}$$\n",
    "$$\\Large \\frac{dl}{d\\mu} = - \\frac{n}{\\mu} + \\frac{\\overline{x}n}{\\mu ^ 2}$$\n",
    "$$\\Large \\frac{dl}{d\\mu} = 0$$\n",
    "$$\\Large \\frac{1}{\\mu} = \\frac{\\overline{x}}{\\mu ^ 2}$$\n",
    "$$\\Large \\mu = \\overline{x}$$"
   ]
  },
  {
   "cell_type": "markdown",
   "metadata": {
    "collapsed": false,
    "jupyter": {
     "outputs_hidden": false
    }
   },
   "source": [
    "## Задание №11\n",
    "$$\\Large p(x) = \\frac{\\lambda}{2}e^{-\\lambda|x|}$$\n",
    "$$\\Large L(x, \\lambda) = \\prod_{i=1}^{n} \\frac{\\lambda}{2}e^{-\\lambda|x_i|}$$\n",
    "$$\\Large L(x, \\lambda) = (\\frac{\\lambda}{2})^n e^{-\\lambda|\\overline{x}|n}$$\n",
    "$$\\Large l(x, \\lambda) = n \\ln(\\lambda) - n \\ln(2) - \\lambda |\\overline{x}|n$$\n",
    "$$\\Large \\frac{dl}{d\\lambda} = \\frac{n}{\\lambda} - |\\overline{x}|n$$\n",
    "$$\\Large \\frac{dl}{d\\lambda} = 0$$\n",
    "$$\\Large \\frac{n}{\\lambda} = |\\overline{x}|n$$\n",
    "$$\\Large \\lambda = \\frac{1}{|\\overline{x}|}$$"
   ]
  }
 ],
 "metadata": {
  "kernelspec": {
   "display_name": "Python 3 (ipykernel)",
   "language": "python",
   "name": "python3"
  },
  "language_info": {
   "codemirror_mode": {
    "name": "ipython",
    "version": 3
   },
   "file_extension": ".py",
   "mimetype": "text/x-python",
   "name": "python",
   "nbconvert_exporter": "python",
   "pygments_lexer": "ipython3",
   "version": "3.11.4"
  }
 },
 "nbformat": 4,
 "nbformat_minor": 4
}
