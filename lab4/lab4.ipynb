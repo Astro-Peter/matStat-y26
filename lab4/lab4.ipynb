{
 "cells": [
  {
   "cell_type": "markdown",
   "metadata": {
    "collapsed": false,
    "jupyter": {
     "outputs_hidden": false
    }
   },
   "source": [
    "## Стефанюк Иван, Вариант 14"
   ]
  },
  {
   "cell_type": "code",
   "execution_count": 15,
   "metadata": {
    "collapsed": true,
    "jupyter": {
     "outputs_hidden": true
    },
    "ExecuteTime": {
     "end_time": "2024-05-31T15:24:18.088153700Z",
     "start_time": "2024-05-31T15:24:17.941357900Z"
    }
   },
   "outputs": [],
   "source": [
    "import numpy as np\n",
    "import pandas as pd\n",
    "from sklearn.datasets import load_iris\n",
    "from scipy.stats import norm, chi2, ksone, t, f\n",
    "\n",
    "dataset = load_iris(as_frame=True)\n",
    "data = dataset[\"data\"]\n",
    "target = dataset[\"target\"]\n",
    "data[\"target\"] = target\n",
    "map_dict= {0: \"setosa\", 1: \"versicolor\", 2: \"virginica\"}\n",
    "data[\"target\"] = data[\"target\"].map(map_dict)\n",
    "setosa = data[data[\"target\"] == \"setosa\"]\n",
    "virginica = data[data[\"target\"] == \"virginica\"]\n",
    "versicolor = data[data[\"target\"] == \"versicolor\"]\n",
    "data_length = 50"
   ]
  },
  {
   "cell_type": "code",
   "execution_count": 16,
   "metadata": {
    "collapsed": false,
    "jupyter": {
     "outputs_hidden": false
    },
    "ExecuteTime": {
     "end_time": "2024-05-31T15:24:18.103638200Z",
     "start_time": "2024-05-31T15:24:18.089161200Z"
    }
   },
   "outputs": [],
   "source": [
    "def data_intervals(data: pd.DataFrame, column, interval_number):\n",
    "    points = np.linspace(data[column].min(), data[column].max(), interval_number)\n",
    "    new_ranges = pd.DataFrame(columns=[\"from\",\"to\",\"total\"])\n",
    "\n",
    "    for i in range(1, points.size):\n",
    "        d = len(data[(data[column] >= points[i - 1]) & (data[column] < points[i])])\n",
    "        if i == points.size - 1:\n",
    "            d += len(data[data[column] == points[i]])\n",
    "        new_ranges.loc[-1] = [points[i - 1],points[i], d]\n",
    "        new_ranges.index = new_ranges.index + 1\n",
    "        new_ranges = new_ranges.sort_index()\n",
    "    return new_ranges\n",
    "\n",
    "def values_intervals(data: pd.DataFrame, column):\n",
    "    new_data = pd.DataFrame({\"values\": data[column].sort_values().unique()})\n",
    "    vals = []\n",
    "    for i, row in new_data.iterrows():\n",
    "        vals.append(len(data[data[column] == row[\"values\"]]))\n",
    "    new_data[\"count\"] = vals\n",
    "    return new_data"
   ]
  },
  {
   "cell_type": "markdown",
   "metadata": {
    "collapsed": false,
    "jupyter": {
     "outputs_hidden": false
    }
   },
   "source": [
    "## Задание 1\n",
    "Хи-квадрат\n",
    "критерий\n",
    "$$\\chi^2 = \\sum_{i=1}^l{\\frac{(n_{i} - n p_i)^2}{n p_i}}$$"
   ]
  },
  {
   "cell_type": "code",
   "execution_count": 17,
   "metadata": {
    "collapsed": false,
    "jupyter": {
     "outputs_hidden": false
    },
    "ExecuteTime": {
     "end_time": "2024-05-31T15:24:18.168885900Z",
     "start_time": "2024-05-31T15:24:18.109638Z"
    }
   },
   "outputs": [
    {
     "name": "stdout",
     "output_type": "stream",
     "text": [
      "p-value=0.12933176300602833, гипотеза о нормальности распределения по критерию Хи-квадрат принимается на всех уровнях значимости\n"
     ]
    }
   ],
   "source": [
    "setosa_sepal = data_intervals(setosa, \"sepal width (cm)\", 6)\n",
    "C = (setosa[\"sepal width (cm)\"].max() + setosa[\"sepal width (cm)\"].min()) / 2\n",
    "setosa_sepal['avg'] = (setosa_sepal['from'] + setosa_sepal['to']) / 2\n",
    "setosa_sepal['avg - C'] = setosa_sepal['avg'] - C\n",
    "setosa_sepal['(avg - C) * n'] = setosa_sepal['avg - C'] * setosa_sepal['total']\n",
    "setosa_sepal['(avg - C) ** 2'] = setosa_sepal['avg - C'] ** 2\n",
    "setosa_sepal['(avg - C) ** 2 * n'] = setosa_sepal['(avg - C) ** 2'] * setosa_sepal['total']\n",
    "\n",
    "avg = setosa_sepal['(avg - C) * n'].sum() / setosa_sepal['total'].sum() + C\n",
    "sigma = np.sqrt(setosa_sepal['(avg - C) ** 2 * n'].sum()/setosa_sepal['total'].sum() - (avg - C))\n",
    "vals = []\n",
    "for index, row in setosa_sepal.iterrows():\n",
    "    vals.append(norm.cdf((row['to'] - avg)/sigma) - norm.cdf((row['from'] - avg)/sigma))\n",
    "setosa_sepal['p_i'] = vals\n",
    "setosa_sepal['u_i'] = (setosa_sepal['total'] - setosa_sepal['p_i'] * setosa_sepal['total'].sum()) ** 2 / \\\n",
    "                      (setosa_sepal['p_i'] * setosa_sepal['total'].sum())\n",
    "print(f\"p-value={1 - chi2.cdf(setosa_sepal['u_i'].sum(), 3)}, \"\n",
    "      f\"гипотеза о нормальности распределения по критерию Хи-квадрат принимается на всех уровнях значимости\")"
   ]
  },
  {
   "cell_type": "markdown",
   "metadata": {
    "collapsed": false,
    "jupyter": {
     "outputs_hidden": false
    }
   },
   "source": [
    "Колмогорова\n",
    "$$ D_n = \\sup{|F_n^*(x) - F_0(x)|} $$"
   ]
  },
  {
   "cell_type": "code",
   "execution_count": 18,
   "metadata": {
    "collapsed": false,
    "jupyter": {
     "outputs_hidden": false
    },
    "ExecuteTime": {
     "end_time": "2024-05-31T15:24:18.253114200Z",
     "start_time": "2024-05-31T15:24:18.176886300Z"
    }
   },
   "outputs": [
    {
     "name": "stdout",
     "output_type": "stream",
     "text": [
      "p-value:0.6786266864013646, гипотеза о нормальности распределения по критерию Колмогорова принимается на всех уровнях значимости\n"
     ]
    }
   ],
   "source": [
    "setosa_kolmogorov = values_intervals(setosa, \"sepal width (cm)\")\n",
    "vals = []\n",
    "for i, row in setosa_kolmogorov.iterrows():\n",
    "    vals.append(setosa_kolmogorov[setosa_kolmogorov[\"values\"] <= row[\"values\"]][\"count\"].sum() / setosa_kolmogorov[\"count\"].sum())\n",
    "setosa_kolmogorov[\"density\"] = vals\n",
    "avg = setosa[\"sepal width (cm)\"].mean()\n",
    "sigma_squared = ((setosa[\"sepal width (cm)\"] - avg) ** 2).sum() / len(setosa)\n",
    "max_diff = 0\n",
    "for i, row in setosa_kolmogorov.iterrows():\n",
    "    diff = abs(norm.cdf((row['values'] - avg)/np.sqrt(sigma_squared)) - row[\"density\"])\n",
    "    if diff > max_diff:\n",
    "        max_diff = diff\n",
    "print(f\"p-value:{1 - ksone.cdf(max_diff, 15)}, гипотеза о нормальности распределения по критерию Колмогорова принимается на всех уровнях значимости\")"
   ]
  },
  {
   "cell_type": "markdown",
   "metadata": {
    "collapsed": false,
    "jupyter": {
     "outputs_hidden": false
    }
   },
   "source": [
    "## Задание 2\n",
    "Гипотеза об однородности\n",
    "критерий\n",
    "$$ \\sum_{i=1}^2{\\sum_{j=1}^m{\\frac{(n_{ij} - n_i p_j)^2}{n_i * p_j}}}$$"
   ]
  },
  {
   "cell_type": "code",
   "execution_count": 19,
   "metadata": {
    "collapsed": false,
    "jupyter": {
     "outputs_hidden": false
    },
    "ExecuteTime": {
     "end_time": "2024-05-31T15:24:18.254114300Z",
     "start_time": "2024-05-31T15:24:18.206952900Z"
    }
   },
   "outputs": [
    {
     "name": "stdout",
     "output_type": "stream",
     "text": [
      "p-value=0.052765131757832706, гипотеза об однородности принимается для уровня значимости 0.01 и 0.05, отвергается для 0.1\n"
     ]
    }
   ],
   "source": [
    "setosa_sepal_length = data_intervals(setosa, \"sepal width (cm)\", 6)\n",
    "virginica_sepal_length = data_intervals(virginica, \"sepal width (cm)\", 6)\n",
    "virg_set = pd.DataFrame()\n",
    "virg_set[\"from_set\"] = setosa_sepal_length[\"from\"]\n",
    "virg_set[\"total_set\"] = setosa_sepal_length[\"total\"]\n",
    "virg_set[\"to_set\"] = setosa_sepal_length[\"to\"]\n",
    "virg_set[\"from_virg\"] = virginica_sepal_length[\"from\"]\n",
    "virg_set[\"total_virg\"] = virginica_sepal_length[\"total\"]\n",
    "virg_set[\"to_virg\"] = virginica_sepal_length[\"to\"]\n",
    "virg_set[\"v_i\"] = virg_set[\"total_virg\"] + virg_set[\"total_set\"]\n",
    "virg_set[\"p_i\"] = virg_set[\"v_i\"] / virg_set[\"v_i\"].sum()\n",
    "stat = ((virg_set[\"total_virg\"] - data_length * virg_set[\"p_i\"]) ** 2 /\n",
    "        (data_length * virg_set[\"p_i\"])).sum() + ((virg_set[\"total_set\"]\n",
    "        - data_length * virg_set[\"p_i\"]) ** 2 / (data_length * virg_set[\"p_i\"])).sum()\n",
    "print(f\"p-value={1 - chi2.cdf(stat, 1)}, гипотеза об однородности принимается для уровня значимости 0.01 и 0.05, отвергается для 0.1\")"
   ]
  },
  {
   "cell_type": "markdown",
   "metadata": {
    "collapsed": false,
    "jupyter": {
     "outputs_hidden": false
    }
   },
   "source": [
    "## Задание 3\n",
    "Гипотеза о независимости критерий\n",
    "$$\\chi^2 = n\\sum_{i=1}^l{\\sum_{j=1}^m{\\frac{(n_{ij} - n p_j p_i)^2}{n p_j p_i}}}$$\n",
    "Коэфф корреляции\n",
    "$$ r = cov(X, y) / (s_x * s_y) $$\n",
    "K-Статистика\n",
    "$$ t = r * \\sqrt{(n - 2) / (1 - r ^2)} $$\n",
    "Линейная регрессия\n",
    "$$ Y = \\beta_0 + X * \\beta_1 $$\n",
    "$$ \\beta_1 = cov(X, Y) / \\sigma^2 $$\n",
    "$$  \\beta_0 = \\overline{Y} - \\overline{X} * \\beta_1 $$\n",
    "$$ R^2 = 1 - \\frac{RSS}{TSS}$$\n",
    "$$ RSS = \\sum_{i=1}^n{(y_i - f_i)^2}$$\n",
    "$$TSS = \\sum_{i=1}^n{(y_i -\\overline{y})^2}$$\n",
    "Критерий фишера\n",
    "$$ f = \\frac{R^2}{1 - R^2} * \\frac{n - k - 1}{k - 1} $$"
   ]
  },
  {
   "cell_type": "code",
   "execution_count": 20,
   "metadata": {
    "collapsed": false,
    "jupyter": {
     "outputs_hidden": false
    },
    "ExecuteTime": {
     "end_time": "2024-05-31T15:24:18.453739400Z",
     "start_time": "2024-05-31T15:24:18.249114500Z"
    }
   },
   "outputs": [
    {
     "name": "stdout",
     "output_type": "stream",
     "text": [
      "p-value=5.328632166057279e-05, гипотеза о независимости отвергается на всех уровнях значимости\n",
      "dorr=0.8642247329355762, cov=0.29722400000000004\n",
      "p-value=0.0, гипотеза о равенстве коэфф-та кор-ции нулю отвергается на всех уровнях значимости\n",
      "коэфф регрессии А:0.7500807558749439, B:0.610467980295871\n",
      "Коэфф детерминации:0.7468843890175682\n",
      "p-value=0.0666145371082324, гипотеза о значимости модели принимается на всех уровнях значимости кроме 0.1\n"
     ]
    }
   ],
   "source": [
    "total = 0\n",
    "\n",
    "for i in virginica[\"sepal length (cm)\"].unique():\n",
    "    v_i = len(virginica[virginica[\"sepal length (cm)\"] == i])\n",
    "    for j in virginica[\"petal length (cm)\"].unique():\n",
    "        v_j = len(virginica[virginica[\"petal length (cm)\"] == j])\n",
    "        v_j_i = len(virginica[(virginica[\"petal length (cm)\"] == j) & (virginica[\"sepal length (cm)\"] == i)])\n",
    "        total += (v_j_i - (v_j * v_i) / data_length) ** 2 / (v_j * v_i / data_length)\n",
    "freedom = (virginica[\"sepal length (cm)\"].nunique() - 1) * (virginica[\"petal length (cm)\"].nunique() - 1)\n",
    "print(f\"p-value={1 - chi2.cdf(total, freedom)}, гипотеза о независимости отвергается на всех уровнях значимости\")\n",
    "cov = ((virginica[\"petal length (cm)\"] - virginica[\"petal length (cm)\"].mean())\n",
    "       * (virginica[\"sepal length (cm)\"] - virginica[\"sepal length (cm)\"].mean())).sum() / (data_length)\n",
    "sigma_1 = ((virginica[\"petal length (cm)\"] - virginica[\"petal length (cm)\"].mean()) ** 2).sum() / data_length\n",
    "sigma_2 = ((virginica[\"sepal length (cm)\"] - virginica[\"sepal length (cm)\"].mean()) ** 2).sum() / data_length\n",
    "corr = cov / np.sqrt(sigma_1 * sigma_2)\n",
    "t_stat = corr * np.sqrt((data_length - 2))/(1 - corr ** 2)\n",
    "print(f'dorr={corr}, cov={cov}')\n",
    "print(f'p-value={1 - t.cdf(t_stat, data_length - 2)}, гипотеза о равенстве коэфф-та кор-ции нулю отвергается на всех уровнях значимости')\n",
    "regr_coeff = (data_length* (virginica[\"sepal length (cm)\"] * virginica[\"petal length (cm)\"]).sum() -\n",
    "              virginica[\"sepal length (cm)\"].sum() * virginica[\"petal length (cm)\"].sum())\\\n",
    "             / (data_length * (virginica[\"sepal length (cm)\"] ** 2).sum() - virginica[\"sepal length (cm)\"].sum() ** 2)\n",
    "regr_coeff_2 = virginica[\"petal length (cm)\"].mean() - regr_coeff * virginica[\"sepal length (cm)\"].mean()\n",
    "r_xy = regr_coeff * (sigma_2 / sigma_1)\n",
    "err = ((virginica[\"petal length (cm)\"] - regr_coeff * virginica[\"sepal length (cm)\"] - regr_coeff_2) ** 2).sum()\n",
    "r_sqr = 1 - (err / (sigma_1 * data_length))\n",
    "f_stat = (r_sqr * 48 / (1 - r_sqr))\n",
    "print(f\"коэфф регрессии А:{regr_coeff}, B:{regr_coeff_2}\")\n",
    "print(f\"Коэфф детерминации:{r_sqr}\")\n",
    "print(f'p-value={1 - f.cdf(f_stat, 48, 1)}, гипотеза о значимости модели принимается на всех уровнях значимости кроме 0.1')"
   ]
  }
 ],
 "metadata": {
  "kernelspec": {
   "display_name": "Python 3 (ipykernel)",
   "language": "python",
   "name": "python3"
  },
  "language_info": {
   "codemirror_mode": {
    "name": "ipython",
    "version": 3
   },
   "file_extension": ".py",
   "mimetype": "text/x-python",
   "name": "python",
   "nbconvert_exporter": "python",
   "pygments_lexer": "ipython3",
   "version": "3.11.4"
  }
 },
 "nbformat": 4,
 "nbformat_minor": 4
}
