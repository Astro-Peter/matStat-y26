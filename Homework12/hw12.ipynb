{
 "cells": [
  {
   "cell_type": "markdown",
   "metadata": {},
   "source": [
    "# Д/З 12, Стефанюк Иван"
   ]
  },
  {
   "cell_type": "markdown",
   "metadata": {
    "collapsed": false,
    "jp-MarkdownHeadingCollapsed": true,
    "jupyter": {
     "outputs_hidden": false
    }
   },
   "source": [
    "# Задача 1\n",
    "\n",
    "| - | 1 | 2 | 3 | 4 | 5 | 6 | 7 | 8 | 9 |\n",
    "| --- | --- | --- | --- | --- | --- | --- | --- | --- | --- |\n",
    "|год до| 32 | 25 | 42 | 35 | 50 | 40 | 38 | 19 | 15 |\n",
    "|сейчас| 35 | 35 | 25 | 19 | 40 | 40 | 75 | 48 | 18 |\n",
    "\n",
    "Посчитаем среднее для обоих выборок $\\overline{x_1} = \\frac{1}{n_1} \\sum_{i=1}^{n_1} x_{1,i} = 32.44 млн$, $\\overline{x_2} = \\frac{1}{n_2} \\sum_{i=1}^{n_2} x_{2,i} = 37.11 млн$.\n",
    "\n",
    "Теперь посчитаем дисперсии выборок $s_1^2 = \\frac{\\sum_{i=1}^{n_1}(x_{1,i} - \\overline{x_1})^2}{n_1 - 1}=9.275$, $s_2^2 = \\frac{\\sum_{i=1}^{n_2}(x_{2,i} - \\overline{x_2})^2}{n_2 - 1}=16.0125$\n",
    "\n",
    "Вычислим t-статистику: $t = \\frac{\\overline{x_2} - \\overline{x_2}}{\\sqrt{\\frac{s_2^2}{n_2} + \\frac{s_1^2}{n_1}}} = 2.79$\n",
    "Степень свободы $ k = n_1 + n_2 - 2 = 16 $, уровень значимости $ \\alpha = 0.05 $, значение критической точки распределения Стьюдента $= 1.746$. Так как наша t-статистика больше, нулевая гипотеза отвергается $\\to$ объемы увеличились существенно.\n",
    "\n"
   ]
  },
  {
   "cell_type": "markdown",
   "metadata": {
    "collapsed": false,
    "jupyter": {
     "outputs_hidden": false
    }
   },
   "source": [
    "# Задача 2\n",
    "\n",
    "| Магазин | 1 | 2 | 3 | 4 | 5 | 6 | 7 |\n",
    "| --- | --- | --- | --- | --- | --- | --- | --- |\n",
    "| до рекламы| 10 | 15 | 12 | 13 | 14 | 11 | 15 |\n",
    "| после | 17 | 20 | 13 | 11 | 16 | 10 | 18 |\n",
    "\n",
    "Посчитаем среднее для обоих выборок $\\overline{x_1} = \\frac{1}{n_1} \\sum_{i=1}^{n_1} x_{1,i} = 12.86 $, $\\overline{x_2} = \\frac{1}{n_2} \\sum_{i=1}^{n_2} x_{2,i} = 15$.\n",
    "\n",
    "Теперь посчитаем дисперсии выборок $s_1^2 = \\frac{\\sum_{i=1}^{n_1}(x_{1,i} - \\overline{x_1})^2}{n_1 - 1}=3.81$, $s_2^2 = \\frac{\\sum_{i=1}^{n_2}(x_{2,i} - \\overline{x_2})^2}{n_2 - 1}=14$\n",
    "\n",
    "Вычислим t-статистику: $t = \\frac{\\overline{x_2} - \\overline{x_2}}{\\sqrt{\\frac{s_2^2}{n_2} + \\frac{s_1^2}{n_1}}} = 1.343$\n",
    "Степень свободы $ k = n_1 + n_2 - 2 = 12 $, уровень значимости $ \\alpha = 0.1 $, значение критической точки распределения Стьюдента $= 1.356$. Так как наша t-статистика меньше, нулевая гипотеза подтверждается $\\to$ объемы не увеличились.\n"
   ]
  },
  {
   "cell_type": "markdown",
   "metadata": {},
   "source": [
    "# Задача 3\n",
    "\n",
    "| Сотрудник | 1 | 2 | 3 | 4 | 5 | 6 | 7 |\n",
    "| --- | --- | --- | --- | --- | --- | --- | --- |\n",
    "| до обучения | 20 | 18 | 15 | 16 | 20 | 14 | 17 |\n",
    "| после | 26 | 27 | 20 | 23 | 19 | 22 | 28 |\n",
    "\n",
    "Посчитаем среднее для обоих выборок $\\overline{x_1} = \\frac{1}{n_1} \\sum_{i=1}^{n_1} x_{1,i} = 17 $, $\\overline{x_2} = \\frac{1}{n_2} \\sum_{i=1}^{n_2} x_{2,i} = 23.571$.\n",
    "\n",
    "Теперь посчитаем дисперсии выборок $s_1^2 = \\frac{\\sum_{i=1}^{n_1}(x_{1,i} - \\overline{x_1})^2}{n_1 - 1}=6.33$, $s_2^2 = \\frac{\\sum_{i=1}^{n_2}(x_{2,i} - \\overline{x_2})^2}{n_2 - 1}=12.29$\n",
    "\n",
    "Вычислим t-статистику: $t = \\frac{\\overline{x_2} - \\overline{x_2}}{\\sqrt{\\frac{s_2^2}{n_2} + \\frac{s_1^2}{n_1}}} = 4.029$\n",
    "Степень свободы $ k = n_1 + n_2 - 2 = 12 $, уровень значимости $ \\alpha = 0.05 $, значение критической точки распределения Стьюдента $= 2.179$. Так как наша t-статистика большу, нулевая гипотеза отвергается $\\to$ объемы увеличились существенно.\n"
   ]
  },
  {
   "cell_type": "code",
   "execution_count": 1,
   "metadata": {
    "ExecuteTime": {
     "end_time": "2024-04-30T20:40:00.847278100Z",
     "start_time": "2024-04-30T20:40:00.612051300Z"
    },
    "collapsed": false,
    "jupyter": {
     "outputs_hidden": false
    }
   },
   "outputs": [
    {
     "name": "stdout",
     "output_type": "stream",
     "text": [
      "17.0 23.571428571428573\n",
      "6.333333333333333 12.285714285714285\n"
     ]
    },
    {
     "data": {
      "text/plain": [
       "4.029304421069108"
      ]
     },
     "execution_count": 1,
     "metadata": {},
     "output_type": "execute_result"
    }
   ],
   "source": [
    "import numpy as np\n",
    "a = np.array([20, 18, 14, 16, 20, 14, 17])\n",
    "b = np.array([26, 27, 20, 23, 19, 22, 28])\n",
    "a_avg = a.mean()\n",
    "b_avg = b.mean()\n",
    "print(a_avg, b_avg)\n",
    "s_1_squared = ((a - a_avg) ** 2).sum() / (a.size - 1)\n",
    "s_2_squared = ((b - b_avg) ** 2).sum() / (b.size - 1)\n",
    "print(s_1_squared, s_2_squared)\n",
    "t = (b_avg - a_avg) / np.sqrt(s_1_squared/a.size + s_2_squared/b.size)\n",
    "t"
   ]
  }
 ],
 "metadata": {
  "kernelspec": {
   "display_name": "Python 3 (ipykernel)",
   "language": "python",
   "name": "python3"
  },
  "language_info": {
   "codemirror_mode": {
    "name": "ipython",
    "version": 3
   },
   "file_extension": ".py",
   "mimetype": "text/x-python",
   "name": "python",
   "nbconvert_exporter": "python",
   "pygments_lexer": "ipython3",
   "version": "3.11.4"
  }
 },
 "nbformat": 4,
 "nbformat_minor": 4
}
