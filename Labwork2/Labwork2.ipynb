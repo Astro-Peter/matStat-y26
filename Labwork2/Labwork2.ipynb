{
 "cells": [
  {
   "cell_type": "markdown",
   "source": [
    "Добавляем необходимые библиотеки"
   ],
   "metadata": {
    "collapsed": false
   }
  },
  {
   "cell_type": "code",
   "execution_count": 56,
   "metadata": {
    "collapsed": true,
    "ExecuteTime": {
     "end_time": "2024-03-31T14:45:32.231693300Z",
     "start_time": "2024-03-31T14:45:32.185132400Z"
    }
   },
   "outputs": [],
   "source": [
    "import numpy as np\n",
    "import pandas as pd"
   ]
  },
  {
   "cell_type": "markdown",
   "source": [
    "Задаем данные"
   ],
   "metadata": {
    "collapsed": false
   }
  },
  {
   "cell_type": "code",
   "execution_count": 57,
   "outputs": [],
   "source": [
    "m = 32.1\n",
    "sigma = 0.12\n",
    "p_1 = 0.95\n",
    "p_2 = 0.8\n",
    "p_3 = 0.98\n",
    "p_4 = 0.99\n",
    "data = pd.DataFrame({\"X_i\":[32.09, 32.04, 32.15, 32.01, 32.09, 32.28, 32.08, 32.28, 32.29, 32.18, 32.2,\n",
    "                 32.09, 31.91, 32.19, 32.06, 32.04, 32.15, 32.25, 32.07, 32.09, 32.26, 32.13,\n",
    "                 32, 32.18, 31.88, 32.29, 32.26, 31.98]})\n",
    "d = 100"
   ],
   "metadata": {
    "collapsed": false,
    "ExecuteTime": {
     "end_time": "2024-03-31T14:45:32.235584300Z",
     "start_time": "2024-03-31T14:45:32.191650900Z"
    }
   }
  },
  {
   "cell_type": "markdown",
   "source": [
    "Рассчитаем нужные значения по формулам\n",
    "$$\\overline{X} = \\frac{1}{n} \\sum_{i=1}^n (X_i - m) + m$$\n",
    "$$s_0^2 = \\frac{1}{n} \\sum_{i=1}^n (X_i - m)^2$$\n",
    "$$s^2 = \\frac{1}{n - 1} \\sum_{i=1}^n (X_i - m)^2 - \\frac{n}{n - 1}(\\overline{X} - C)^2$$\n",
    "Не домножаю/делю на $\\Delta$, потому что это не даст никакого выиграша при вычислении компьютером"
   ],
   "metadata": {
    "collapsed": false
   }
  },
  {
   "cell_type": "code",
   "execution_count": 58,
   "outputs": [
    {
     "name": "stdout",
     "output_type": "stream",
     "text": [
      "32.12571428571429 0.006696428571428522 0.003848881239242601\n",
      "      X_i  d * (X_i - C)  d * (X_i - C) ^ 2\n",
      "0   32.09              0                  0\n",
      "1   32.04             -6                 36\n",
      "2   32.15              5                 25\n",
      "3   32.01             -9                 81\n",
      "4   32.09              0                  0\n",
      "5   32.28             18                324\n",
      "6   32.08             -2                  4\n",
      "7   32.28             18                324\n",
      "8   32.29             19                361\n",
      "9   32.18              8                 64\n",
      "10  32.20             10                100\n",
      "11  32.09              0                  0\n",
      "12  31.91            -19                361\n",
      "13  32.19              9                 81\n",
      "14  32.06             -4                 16\n",
      "15  32.04             -6                 36\n",
      "16  32.15              5                 25\n",
      "17  32.25             15                225\n",
      "18  32.07             -3                  9\n",
      "19  32.09              0                  0\n",
      "20  32.26             16                256\n",
      "21  32.13              3                  9\n",
      "22  32.00            -10                100\n",
      "23  32.18              8                 64\n",
      "24  31.88            -22                484\n",
      "25  32.29             19                361\n",
      "26  32.26             16                256\n",
      "27  31.98            -12                144\n",
      "sum\t\t\t\t\t76\t\t\t\t\t3746\n"
     ]
    }
   ],
   "source": [
    "X_avg = (1 / data.size) * (data[\"X_i\"] - m).sum() + m\n",
    "data[\"d * (X_i - C)\"] = (data[\"X_i\"] * d - m * d).astype(int)\n",
    "s_0_squared = (1 / data.size) * ((data[\"X_i\"] - m) ** 2).sum()\n",
    "data[\"d * (X_i - C) ^ 2\"] = ((data[\"X_i\"]*d - m*d) ** 2).astype(int)\n",
    "s_squared = (1 / (data.size - 1)) * ((data[\"X_i\"] - m) ** 2).sum() - (data.size / (data.size - 1)) * ((X_avg - m) ** 2)\n",
    "print(X_avg, s_0_squared, s_squared)\n",
    "print(data)\n",
    "print(f'sum\\t\\t\\t\\t\\t{sum(data[\"d * (X_i - C)\"])}\\t\\t\\t\\t\\t{sum(data[\"d * (X_i - C) ^ 2\"])}')"
   ],
   "metadata": {
    "collapsed": false,
    "ExecuteTime": {
     "end_time": "2024-03-31T14:45:32.268862900Z",
     "start_time": "2024-03-31T14:45:32.210624200Z"
    }
   }
  },
  {
   "cell_type": "markdown",
   "source": [
    "Пункт 1\n",
    "Квантиль для P=0.9 => 1.645"
   ],
   "metadata": {
    "collapsed": false
   }
  },
  {
   "cell_type": "code",
   "execution_count": 59,
   "outputs": [
    {
     "name": "stdout",
     "output_type": "stream",
     "text": [
      "32.12571428571429 +- 0.021538105766292448\n"
     ]
    }
   ],
   "source": [
    "u_p = 1.645\n",
    "print(f'{X_avg} +- {u_p * sigma / np.sqrt(data.size)}')"
   ],
   "metadata": {
    "collapsed": false,
    "ExecuteTime": {
     "end_time": "2024-03-31T14:45:32.269863500Z",
     "start_time": "2024-03-31T14:45:32.218177500Z"
    }
   }
  },
  {
   "cell_type": "markdown",
   "source": [
    "Пункт 2\n"
   ],
   "metadata": {
    "collapsed": false
   }
  },
  {
   "cell_type": "code",
   "execution_count": 60,
   "outputs": [
    {
     "name": "stdout",
     "output_type": "stream",
     "text": [
      "32.12571428571429 +- 0.008894529453112043\n"
     ]
    }
   ],
   "source": [
    "t_p = 1.314\n",
    "print(f'{X_avg} +- {t_p * np.sqrt(s_squared) / np.sqrt(data.size)}')"
   ],
   "metadata": {
    "collapsed": false,
    "ExecuteTime": {
     "end_time": "2024-03-31T14:45:32.271862700Z",
     "start_time": "2024-03-31T14:45:32.235584300Z"
    }
   }
  },
  {
   "cell_type": "code",
   "execution_count": 61,
   "outputs": [
    {
     "name": "stdout",
     "output_type": "stream",
     "text": [
      "Дисперсия -- (0.01165078707539345, 0.043672360248446875)\n",
      "CKO -- (0.1079388117193878, 0.20897932971575653)\n"
     ]
    }
   ],
   "source": [
    "xzi_p = 48.28\n",
    "xzi_q = 12.88\n",
    "print(f'Дисперсия -- ({data.size * s_0_squared / xzi_p}, {data.size * s_0_squared / xzi_q})')\n",
    "print(f'CKO -- ({np.sqrt(data.size * s_0_squared / xzi_p)}, {np.sqrt(data.size * s_0_squared / xzi_q)})')"
   ],
   "metadata": {
    "collapsed": false,
    "ExecuteTime": {
     "end_time": "2024-03-31T14:45:32.272863400Z",
     "start_time": "2024-03-31T14:45:32.239585300Z"
    }
   }
  },
  {
   "cell_type": "code",
   "execution_count": 62,
   "outputs": [
    {
     "name": "stdout",
     "output_type": "stream",
     "text": [
      "Дисперсия -- (0.006435478300909264, 0.027049715737268068)\n",
      "CKO -- (0.08022143292729983, 0.16446797784756784)\n"
     ]
    }
   ],
   "source": [
    "xzi_p_2 = 49.64\n",
    "xzi_q_2 = 11.81\n",
    "print(f'Дисперсия -- ({(data.size - 1) * s_squared / xzi_p_2}, {(data.size - 1) * s_squared / xzi_q_2})')\n",
    "print(f'CKO -- ({np.sqrt((data.size - 1) * s_squared / xzi_p_2)}, {np.sqrt((data.size - 1) * s_squared / xzi_q_2)})')"
   ],
   "metadata": {
    "collapsed": false,
    "ExecuteTime": {
     "end_time": "2024-03-31T14:45:32.272863400Z",
     "start_time": "2024-03-31T14:45:32.245729900Z"
    }
   }
  },
  {
   "cell_type": "code",
   "execution_count": 62,
   "outputs": [],
   "source": [],
   "metadata": {
    "collapsed": false,
    "ExecuteTime": {
     "end_time": "2024-03-31T14:45:32.272863400Z",
     "start_time": "2024-03-31T14:45:32.249854400Z"
    }
   }
  }
 ],
 "metadata": {
  "kernelspec": {
   "display_name": "Python 3",
   "language": "python",
   "name": "python3"
  },
  "language_info": {
   "codemirror_mode": {
    "name": "ipython",
    "version": 2
   },
   "file_extension": ".py",
   "mimetype": "text/x-python",
   "name": "python",
   "nbconvert_exporter": "python",
   "pygments_lexer": "ipython2",
   "version": "2.7.6"
  }
 },
 "nbformat": 4,
 "nbformat_minor": 0
}
